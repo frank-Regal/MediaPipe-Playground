{
 "cells": [
  {
   "cell_type": "markdown",
   "metadata": {},
   "source": [
    "# Convert Video to Frames"
   ]
  },
  {
   "cell_type": "code",
   "execution_count": 19,
   "metadata": {},
   "outputs": [],
   "source": [
    "import cv2\n",
    "import os\n",
    "import sys"
   ]
  },
  {
   "cell_type": "code",
   "execution_count": 29,
   "metadata": {},
   "outputs": [],
   "source": [
    "vid_path = \"/home/regal/devel/ws_cacti/src/hri_cacti_xr/data/stop/30x_4mono_10hz/20240131_140533_d_rr_stop.avi\"\n",
    "out_path = \"/home/regal/devel/ws_cacti/src/hri_cacti_xr/gesture_recognition/gesture_recogition_research/MediaPipe/data/stop\"\n",
    "video = cv2.VideoCapture(vid_path)"
   ]
  },
  {
   "cell_type": "code",
   "execution_count": 30,
   "metadata": {},
   "outputs": [
    {
     "name": "stdout",
     "output_type": "stream",
     "text": [
      "20240131_140533_d_rr_stop\n"
     ]
    }
   ],
   "source": [
    "vid_name = vid_path.split('/')[-1].split('.')[0]\n",
    "print(vid_name)"
   ]
  },
  {
   "cell_type": "code",
   "execution_count": 31,
   "metadata": {},
   "outputs": [
    {
     "name": "stdout",
     "output_type": "stream",
     "text": [
      "/home/regal/devel/ws_cacti/src/hri_cacti_xr/gesture_recognition/gesture_recogition_research/MediaPipe/data/stop/20240131_140533_d_rr_stop\n"
     ]
    }
   ],
   "source": [
    "out_full_path = os.path.join(out_path, vid_name)\n",
    "print(out_full_path)\n",
    "\n",
    "try:\n",
    "    os.mkdir(out_path)\n",
    "    os.mkdir(out_full_path)\n",
    "except OSError:\n",
    "    print(\"directory exists\")"
   ]
  },
  {
   "cell_type": "code",
   "execution_count": 32,
   "metadata": {},
   "outputs": [
    {
     "name": "stdout",
     "output_type": "stream",
     "text": [
      "166\n"
     ]
    }
   ],
   "source": [
    "fcount = int(video.get(cv2.CAP_PROP_FRAME_COUNT))\n",
    "print(fcount)"
   ]
  },
  {
   "cell_type": "code",
   "execution_count": 24,
   "metadata": {},
   "outputs": [
    {
     "name": "stdout",
     "output_type": "stream",
     "text": [
      "20240131_140533_d_rr_stop done\n",
      "['/home/regal/devel/ws_cacti/src/hri_cacti_xr/gesture_recognition/gesture_recogition_research/MediaPipe/data/stop/20240131_140533_d_rr_stop 166 0']\n"
     ]
    }
   ],
   "source": [
    "file_list = []\n",
    "for i in range(0,fcount):\n",
    "    ret, frame = video.read()\n",
    "    assert ret\n",
    "    # resized_frame = cv2.resize(frame, (340, 256))\n",
    "    cv2.imwrite('{}/img_{:05d}.jpg'.format(out_full_path, i), frame)\n",
    "    #access_path = '{}/{:05d}.jpg {} 0'.format(out_full_path, i, fcount)\n",
    "access_path = '{} {} {}'.format(out_full_path, fcount, 0)\n",
    "file_list.append(access_path)\n",
    "print('{} done'.format(vid_name))\n",
    "video.release()\n",
    "#sys.stdout.flush()\n",
    "print(file_list)"
   ]
  },
  {
   "cell_type": "code",
   "execution_count": 25,
   "metadata": {},
   "outputs": [
    {
     "name": "stdout",
     "output_type": "stream",
     "text": [
      "['/home/regal/devel/ws_cacti/src/hri_cacti_xr/gesture_recognition/gesture_recogition_research/MediaPipe/data/stop/20240131_140533_d_rr_stop 166 0']\n"
     ]
    }
   ],
   "source": [
    "print(file_list)"
   ]
  },
  {
   "cell_type": "code",
   "execution_count": null,
   "metadata": {},
   "outputs": [],
   "source": []
  }
 ],
 "metadata": {
  "kernelspec": {
   "display_name": "hri_cacti_py38",
   "language": "python",
   "name": "python3"
  },
  "language_info": {
   "codemirror_mode": {
    "name": "ipython",
    "version": 3
   },
   "file_extension": ".py",
   "mimetype": "text/x-python",
   "name": "python",
   "nbconvert_exporter": "python",
   "pygments_lexer": "ipython3",
   "version": "3.8.18"
  }
 },
 "nbformat": 4,
 "nbformat_minor": 2
}
